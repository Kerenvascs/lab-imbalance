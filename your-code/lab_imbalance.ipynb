{
 "cells": [
  {
   "cell_type": "markdown",
   "metadata": {},
   "source": [
    "# Inbalanced Classes\n",
    "## In this lab, we are going to explore a case of imbalanced classes. \n",
    "\n",
    "\n",
    "Like we disussed in class, when we have noisy data, if we are not careful, we can end up fitting our model to the noise in the data and not the 'signal'-- the factors that actually determine the outcome. This is called overfitting, and results in good results in training, and in bad results when the model is applied to real data. Similarly, we could have a model that is too simplistic to accurately model the signal. This produces a model that doesnt work well (ever). \n"
   ]
  },
  {
   "cell_type": "markdown",
   "metadata": {},
   "source": [
    "### Note: before doing the first commit, make sure you don't include the large csv file, either by adding it to .gitignore, or by deleting it."
   ]
  },
  {
   "cell_type": "markdown",
   "metadata": {},
   "source": [
    "### First, download the data from: https://www.kaggle.com/ntnu-testimon/paysim1. Import the dataset and provide some discriptive statistics and plots. What do you think will be the important features in determining the outcome?\n",
    "### Note: don't use the entire dataset, use a sample instead, with n=100000 elements, so your computer doesn't freeze."
   ]
  },
  {
   "cell_type": "code",
   "execution_count": 1,
   "metadata": {},
   "outputs": [],
   "source": [
    "import pandas as pd\n",
    "import seaborn as sns\n",
    "import matplotlib.pyplot as plt\n",
    "from sklearn.linear_model import LogisticRegression\n",
    "from sklearn.metrics import accuracy_score, cohen_kappa_score, confusion_matrix, classification_report \n",
    "from sklearn.metrics import r2_score\n",
    "from sklearn.model_selection import train_test_split "
   ]
  },
  {
   "cell_type": "code",
   "execution_count": 2,
   "metadata": {},
   "outputs": [
    {
     "data": {
      "text/plain": [
       "(6362620, 11)"
      ]
     },
     "execution_count": 2,
     "metadata": {},
     "output_type": "execute_result"
    }
   ],
   "source": [
    "df = pd.read_csv('PS_20174392719_1491204439457_log.csv')\n",
    "df.head()\n",
    "df.shape"
   ]
  },
  {
   "cell_type": "code",
   "execution_count": 3,
   "metadata": {},
   "outputs": [
    {
     "name": "stdout",
     "output_type": "stream",
     "text": [
      "(100000, 11)\n"
     ]
    },
    {
     "data": {
      "text/html": [
       "<div>\n",
       "<style scoped>\n",
       "    .dataframe tbody tr th:only-of-type {\n",
       "        vertical-align: middle;\n",
       "    }\n",
       "\n",
       "    .dataframe tbody tr th {\n",
       "        vertical-align: top;\n",
       "    }\n",
       "\n",
       "    .dataframe thead th {\n",
       "        text-align: right;\n",
       "    }\n",
       "</style>\n",
       "<table border=\"1\" class=\"dataframe\">\n",
       "  <thead>\n",
       "    <tr style=\"text-align: right;\">\n",
       "      <th></th>\n",
       "      <th>step</th>\n",
       "      <th>type</th>\n",
       "      <th>amount</th>\n",
       "      <th>nameOrig</th>\n",
       "      <th>oldbalanceOrg</th>\n",
       "      <th>newbalanceOrig</th>\n",
       "      <th>nameDest</th>\n",
       "      <th>oldbalanceDest</th>\n",
       "      <th>newbalanceDest</th>\n",
       "      <th>isFraud</th>\n",
       "      <th>isFlaggedFraud</th>\n",
       "    </tr>\n",
       "  </thead>\n",
       "  <tbody>\n",
       "    <tr>\n",
       "      <th>833680</th>\n",
       "      <td>41</td>\n",
       "      <td>CASH_OUT</td>\n",
       "      <td>6396.66</td>\n",
       "      <td>C273903555</td>\n",
       "      <td>0.00</td>\n",
       "      <td>0.00</td>\n",
       "      <td>C934526907</td>\n",
       "      <td>2652827.44</td>\n",
       "      <td>2659224.10</td>\n",
       "      <td>0</td>\n",
       "      <td>0</td>\n",
       "    </tr>\n",
       "    <tr>\n",
       "      <th>450212</th>\n",
       "      <td>19</td>\n",
       "      <td>CASH_IN</td>\n",
       "      <td>190596.54</td>\n",
       "      <td>C1998481504</td>\n",
       "      <td>10768.00</td>\n",
       "      <td>201364.54</td>\n",
       "      <td>C889673442</td>\n",
       "      <td>0.00</td>\n",
       "      <td>0.00</td>\n",
       "      <td>0</td>\n",
       "      <td>0</td>\n",
       "    </tr>\n",
       "    <tr>\n",
       "      <th>2810996</th>\n",
       "      <td>225</td>\n",
       "      <td>CASH_OUT</td>\n",
       "      <td>251188.38</td>\n",
       "      <td>C909148235</td>\n",
       "      <td>55792.00</td>\n",
       "      <td>0.00</td>\n",
       "      <td>C460312922</td>\n",
       "      <td>0.00</td>\n",
       "      <td>251188.38</td>\n",
       "      <td>0</td>\n",
       "      <td>0</td>\n",
       "    </tr>\n",
       "    <tr>\n",
       "      <th>15569</th>\n",
       "      <td>8</td>\n",
       "      <td>PAYMENT</td>\n",
       "      <td>794.18</td>\n",
       "      <td>C1527762517</td>\n",
       "      <td>1371460.55</td>\n",
       "      <td>1370666.37</td>\n",
       "      <td>M1489026763</td>\n",
       "      <td>0.00</td>\n",
       "      <td>0.00</td>\n",
       "      <td>0</td>\n",
       "      <td>0</td>\n",
       "    </tr>\n",
       "    <tr>\n",
       "      <th>5613458</th>\n",
       "      <td>395</td>\n",
       "      <td>CASH_OUT</td>\n",
       "      <td>482029.34</td>\n",
       "      <td>C940610186</td>\n",
       "      <td>20997.00</td>\n",
       "      <td>0.00</td>\n",
       "      <td>C1848623927</td>\n",
       "      <td>22855.78</td>\n",
       "      <td>504885.13</td>\n",
       "      <td>0</td>\n",
       "      <td>0</td>\n",
       "    </tr>\n",
       "  </tbody>\n",
       "</table>\n",
       "</div>"
      ],
      "text/plain": [
       "         step      type     amount     nameOrig  oldbalanceOrg  \\\n",
       "833680     41  CASH_OUT    6396.66   C273903555           0.00   \n",
       "450212     19   CASH_IN  190596.54  C1998481504       10768.00   \n",
       "2810996   225  CASH_OUT  251188.38   C909148235       55792.00   \n",
       "15569       8   PAYMENT     794.18  C1527762517     1371460.55   \n",
       "5613458   395  CASH_OUT  482029.34   C940610186       20997.00   \n",
       "\n",
       "         newbalanceOrig     nameDest  oldbalanceDest  newbalanceDest  isFraud  \\\n",
       "833680             0.00   C934526907      2652827.44      2659224.10        0   \n",
       "450212        201364.54   C889673442            0.00            0.00        0   \n",
       "2810996            0.00   C460312922            0.00       251188.38        0   \n",
       "15569        1370666.37  M1489026763            0.00            0.00        0   \n",
       "5613458            0.00  C1848623927        22855.78       504885.13        0   \n",
       "\n",
       "         isFlaggedFraud  \n",
       "833680                0  \n",
       "450212                0  \n",
       "2810996               0  \n",
       "15569                 0  \n",
       "5613458               0  "
      ]
     },
     "execution_count": 3,
     "metadata": {},
     "output_type": "execute_result"
    }
   ],
   "source": [
    "# Select a sample\n",
    "sample = df.sample(100000)\n",
    "print(sample.shape)\n",
    "sample.head()"
   ]
  },
  {
   "cell_type": "markdown",
   "metadata": {},
   "source": [
    "# Headers\n",
    "\n",
    "- step - maps a unit of time in the real world. In this case 1 step is 1 hour of time. Total steps 744 (30 days simulation).\n",
    "\n",
    "- type - CASH-IN, CASH-OUT, DEBIT, PAYMENT and TRANSFER.\n",
    "\n",
    "- amount - amount of the transaction in local currency.\n",
    "\n",
    "- nameOrig - customer who started the transaction\n",
    "\n",
    "- oldbalanceOrg - initial balance before the transaction\n",
    "\n",
    "- newbalanceOrig - new balance after the transaction\n",
    "\n",
    "- nameDest - customer who is the recipient of the transaction\n",
    "\n",
    "- oldbalanceDest - initial balance recipient before the transaction. Note that there is not information for customers that start with M (Merchants).\n",
    "\n",
    "- newbalanceDest - new balance recipient after the transaction. Note that there is not information for customers that start with M (Merchants).\n",
    "\n",
    "- isFraud - This is the transactions made by the fraudulent agents inside the simulation. In this specific dataset the fraudulent behavior of the agents aims to profit by taking control or customers accounts and try to empty the funds by transferring to another account and then cashing out of the system.\n",
    "\n",
    "- isFlaggedFraud - The business model aims to control massive transfers from one account to another and flags illegal attempts. An illegal attempt in this dataset is an attempt to transfer more than 200.000 in a single transaction."
   ]
  },
  {
   "cell_type": "code",
   "execution_count": 4,
   "metadata": {},
   "outputs": [
    {
     "data": {
      "text/html": [
       "<div>\n",
       "<style scoped>\n",
       "    .dataframe tbody tr th:only-of-type {\n",
       "        vertical-align: middle;\n",
       "    }\n",
       "\n",
       "    .dataframe tbody tr th {\n",
       "        vertical-align: top;\n",
       "    }\n",
       "\n",
       "    .dataframe thead th {\n",
       "        text-align: right;\n",
       "    }\n",
       "</style>\n",
       "<table border=\"1\" class=\"dataframe\">\n",
       "  <thead>\n",
       "    <tr style=\"text-align: right;\">\n",
       "      <th></th>\n",
       "      <th>step</th>\n",
       "      <th>amount</th>\n",
       "      <th>oldbalanceOrg</th>\n",
       "      <th>newbalanceOrig</th>\n",
       "      <th>oldbalanceDest</th>\n",
       "      <th>newbalanceDest</th>\n",
       "      <th>isFraud</th>\n",
       "      <th>isFlaggedFraud</th>\n",
       "    </tr>\n",
       "  </thead>\n",
       "  <tbody>\n",
       "    <tr>\n",
       "      <th>count</th>\n",
       "      <td>100000.000000</td>\n",
       "      <td>1.000000e+05</td>\n",
       "      <td>1.000000e+05</td>\n",
       "      <td>1.000000e+05</td>\n",
       "      <td>1.000000e+05</td>\n",
       "      <td>1.000000e+05</td>\n",
       "      <td>100000.000000</td>\n",
       "      <td>100000.0</td>\n",
       "    </tr>\n",
       "    <tr>\n",
       "      <th>mean</th>\n",
       "      <td>243.553280</td>\n",
       "      <td>1.815482e+05</td>\n",
       "      <td>8.353994e+05</td>\n",
       "      <td>8.570900e+05</td>\n",
       "      <td>1.088220e+06</td>\n",
       "      <td>1.216419e+06</td>\n",
       "      <td>0.001250</td>\n",
       "      <td>0.0</td>\n",
       "    </tr>\n",
       "    <tr>\n",
       "      <th>std</th>\n",
       "      <td>142.821752</td>\n",
       "      <td>6.397601e+05</td>\n",
       "      <td>2.877743e+06</td>\n",
       "      <td>2.913655e+06</td>\n",
       "      <td>3.247213e+06</td>\n",
       "      <td>3.598279e+06</td>\n",
       "      <td>0.035333</td>\n",
       "      <td>0.0</td>\n",
       "    </tr>\n",
       "    <tr>\n",
       "      <th>min</th>\n",
       "      <td>1.000000</td>\n",
       "      <td>0.000000e+00</td>\n",
       "      <td>0.000000e+00</td>\n",
       "      <td>0.000000e+00</td>\n",
       "      <td>0.000000e+00</td>\n",
       "      <td>0.000000e+00</td>\n",
       "      <td>0.000000</td>\n",
       "      <td>0.0</td>\n",
       "    </tr>\n",
       "    <tr>\n",
       "      <th>25%</th>\n",
       "      <td>155.000000</td>\n",
       "      <td>1.342922e+04</td>\n",
       "      <td>0.000000e+00</td>\n",
       "      <td>0.000000e+00</td>\n",
       "      <td>0.000000e+00</td>\n",
       "      <td>0.000000e+00</td>\n",
       "      <td>0.000000</td>\n",
       "      <td>0.0</td>\n",
       "    </tr>\n",
       "    <tr>\n",
       "      <th>50%</th>\n",
       "      <td>239.000000</td>\n",
       "      <td>7.534857e+04</td>\n",
       "      <td>1.413900e+04</td>\n",
       "      <td>0.000000e+00</td>\n",
       "      <td>1.328301e+05</td>\n",
       "      <td>2.137076e+05</td>\n",
       "      <td>0.000000</td>\n",
       "      <td>0.0</td>\n",
       "    </tr>\n",
       "    <tr>\n",
       "      <th>75%</th>\n",
       "      <td>345.000000</td>\n",
       "      <td>2.091290e+05</td>\n",
       "      <td>1.083782e+05</td>\n",
       "      <td>1.475245e+05</td>\n",
       "      <td>9.405394e+05</td>\n",
       "      <td>1.106167e+06</td>\n",
       "      <td>0.000000</td>\n",
       "      <td>0.0</td>\n",
       "    </tr>\n",
       "    <tr>\n",
       "      <th>max</th>\n",
       "      <td>741.000000</td>\n",
       "      <td>5.957950e+07</td>\n",
       "      <td>4.254266e+07</td>\n",
       "      <td>3.278579e+07</td>\n",
       "      <td>2.629401e+08</td>\n",
       "      <td>3.114049e+08</td>\n",
       "      <td>1.000000</td>\n",
       "      <td>0.0</td>\n",
       "    </tr>\n",
       "  </tbody>\n",
       "</table>\n",
       "</div>"
      ],
      "text/plain": [
       "                step        amount  oldbalanceOrg  newbalanceOrig  \\\n",
       "count  100000.000000  1.000000e+05   1.000000e+05    1.000000e+05   \n",
       "mean      243.553280  1.815482e+05   8.353994e+05    8.570900e+05   \n",
       "std       142.821752  6.397601e+05   2.877743e+06    2.913655e+06   \n",
       "min         1.000000  0.000000e+00   0.000000e+00    0.000000e+00   \n",
       "25%       155.000000  1.342922e+04   0.000000e+00    0.000000e+00   \n",
       "50%       239.000000  7.534857e+04   1.413900e+04    0.000000e+00   \n",
       "75%       345.000000  2.091290e+05   1.083782e+05    1.475245e+05   \n",
       "max       741.000000  5.957950e+07   4.254266e+07    3.278579e+07   \n",
       "\n",
       "       oldbalanceDest  newbalanceDest        isFraud  isFlaggedFraud  \n",
       "count    1.000000e+05    1.000000e+05  100000.000000        100000.0  \n",
       "mean     1.088220e+06    1.216419e+06       0.001250             0.0  \n",
       "std      3.247213e+06    3.598279e+06       0.035333             0.0  \n",
       "min      0.000000e+00    0.000000e+00       0.000000             0.0  \n",
       "25%      0.000000e+00    0.000000e+00       0.000000             0.0  \n",
       "50%      1.328301e+05    2.137076e+05       0.000000             0.0  \n",
       "75%      9.405394e+05    1.106167e+06       0.000000             0.0  \n",
       "max      2.629401e+08    3.114049e+08       1.000000             0.0  "
      ]
     },
     "execution_count": 4,
     "metadata": {},
     "output_type": "execute_result"
    }
   ],
   "source": [
    "sample.describe()"
   ]
  },
  {
   "cell_type": "code",
   "execution_count": 5,
   "metadata": {},
   "outputs": [
    {
     "data": {
      "text/plain": [
       "array([0, 1], dtype=int64)"
      ]
     },
     "execution_count": 5,
     "metadata": {},
     "output_type": "execute_result"
    }
   ],
   "source": [
    "sample.isFraud.unique()"
   ]
  },
  {
   "cell_type": "markdown",
   "metadata": {},
   "source": [
    "### What is the distribution of the outcome? "
   ]
  },
  {
   "cell_type": "code",
   "execution_count": 6,
   "metadata": {},
   "outputs": [
    {
     "name": "stdout",
     "output_type": "stream",
     "text": [
      "Class 0: 99875\n",
      "Class 1: 125\n",
      "Proportion: 799.0 : 1\n"
     ]
    },
    {
     "data": {
      "image/png": "[encoded data removed]",
      "text/plain": [
       "<Figure size 432x288 with 1 Axes>"
      ]
     },
     "metadata": {
      "needs_background": "light"
     },
     "output_type": "display_data"
    }
   ],
   "source": [
    "# Analyze the target variable\n",
    "target_count = sample.isFraud.value_counts()\n",
    "print('Class 0:', target_count[0])\n",
    "print('Class 1:', target_count[1])\n",
    "print('Proportion:', round(target_count[0] / target_count[1], 2), ': 1')\n",
    "target_count.plot(kind='bar', title='Count (target)',color = ['#120a8f', '#06936a'])\n",
    "plt.show()"
   ]
  },
  {
   "cell_type": "markdown",
   "metadata": {},
   "source": [
    "### Clean the dataset. How are you going to integrate the time variable? Do you think the step (integer) coding in which it is given is appropriate?"
   ]
  },
  {
   "cell_type": "code",
   "execution_count": 7,
   "metadata": {},
   "outputs": [
    {
     "data": {
      "text/plain": [
       "step              0\n",
       "type              0\n",
       "amount            0\n",
       "nameOrig          0\n",
       "oldbalanceOrg     0\n",
       "newbalanceOrig    0\n",
       "nameDest          0\n",
       "oldbalanceDest    0\n",
       "newbalanceDest    0\n",
       "isFraud           0\n",
       "isFlaggedFraud    0\n",
       "dtype: int64"
      ]
     },
     "execution_count": 7,
     "metadata": {},
     "output_type": "execute_result"
    }
   ],
   "source": [
    "# Verify null values\n",
    "sample.isnull().sum()"
   ]
  },
  {
   "cell_type": "code",
   "execution_count": 8,
   "metadata": {},
   "outputs": [
    {
     "data": {
      "text/plain": [
       "Index(['step', 'type', 'amount', 'nameOrig', 'oldbalanceOrg', 'newbalanceOrig',\n",
       "       'nameDest', 'oldbalanceDest', 'newbalanceDest', 'isFraud'],\n",
       "      dtype='object')"
      ]
     },
     "execution_count": 8,
     "metadata": {},
     "output_type": "execute_result"
    }
   ],
   "source": [
    "#Drop double target\n",
    "sample = sample.drop(['isFlaggedFraud'],axis=1)\n",
    "sample.columns"
   ]
  },
  {
   "cell_type": "code",
   "execution_count": 9,
   "metadata": {},
   "outputs": [
    {
     "data": {
      "text/plain": [
       "(99999, 10)"
      ]
     },
     "execution_count": 9,
     "metadata": {},
     "output_type": "execute_result"
    }
   ],
   "source": [
    "# Check duplicates\n",
    "len(sample.nameOrig.unique())\n",
    "df = sample.drop_duplicates(subset='nameOrig', keep=\"first\")\n",
    "df.shape"
   ]
  },
  {
   "cell_type": "code",
   "execution_count": 10,
   "metadata": {},
   "outputs": [
    {
     "data": {
      "text/plain": [
       "step                int64\n",
       "type               object\n",
       "amount            float64\n",
       "nameOrig           object\n",
       "oldbalanceOrg     float64\n",
       "newbalanceOrig    float64\n",
       "nameDest           object\n",
       "oldbalanceDest    float64\n",
       "newbalanceDest    float64\n",
       "isFraud             int64\n",
       "dtype: object"
      ]
     },
     "execution_count": 10,
     "metadata": {},
     "output_type": "execute_result"
    }
   ],
   "source": [
    "#Dtypes\n",
    "df.dtypes"
   ]
  },
  {
   "cell_type": "code",
   "execution_count": 11,
   "metadata": {},
   "outputs": [
    {
     "data": {
      "image/png": "[encoded data removed]",
      "text/plain": [
       "<Figure size 432x288 with 1 Axes>"
      ]
     },
     "metadata": {},
     "output_type": "display_data"
    }
   ],
   "source": [
    "# counts by type of operation\n",
    "sns.set()\n",
    "ax = sns.barplot(x=df['type'].value_counts().index, y=df['type'].value_counts().values)\n",
    "plt.show()"
   ]
  },
  {
   "cell_type": "markdown",
   "metadata": {},
   "source": [
    "# Convert Categorical"
   ]
  },
  {
   "cell_type": "code",
   "execution_count": 12,
   "metadata": {},
   "outputs": [
    {
     "name": "stdout",
     "output_type": "stream",
     "text": [
      "(99999, 14)\n"
     ]
    },
    {
     "data": {
      "text/html": [
       "<div>\n",
       "<style scoped>\n",
       "    .dataframe tbody tr th:only-of-type {\n",
       "        vertical-align: middle;\n",
       "    }\n",
       "\n",
       "    .dataframe tbody tr th {\n",
       "        vertical-align: top;\n",
       "    }\n",
       "\n",
       "    .dataframe thead th {\n",
       "        text-align: right;\n",
       "    }\n",
       "</style>\n",
       "<table border=\"1\" class=\"dataframe\">\n",
       "  <thead>\n",
       "    <tr style=\"text-align: right;\">\n",
       "      <th></th>\n",
       "      <th>step</th>\n",
       "      <th>amount</th>\n",
       "      <th>nameOrig</th>\n",
       "      <th>oldbalanceOrg</th>\n",
       "      <th>newbalanceOrig</th>\n",
       "      <th>nameDest</th>\n",
       "      <th>oldbalanceDest</th>\n",
       "      <th>newbalanceDest</th>\n",
       "      <th>isFraud</th>\n",
       "      <th>d__CASH_IN</th>\n",
       "      <th>d__CASH_OUT</th>\n",
       "      <th>d__DEBIT</th>\n",
       "      <th>d__PAYMENT</th>\n",
       "      <th>d__TRANSFER</th>\n",
       "    </tr>\n",
       "  </thead>\n",
       "  <tbody>\n",
       "    <tr>\n",
       "      <th>833680</th>\n",
       "      <td>41</td>\n",
       "      <td>6396.66</td>\n",
       "      <td>C273903555</td>\n",
       "      <td>0.00</td>\n",
       "      <td>0.00</td>\n",
       "      <td>C934526907</td>\n",
       "      <td>2652827.44</td>\n",
       "      <td>2659224.10</td>\n",
       "      <td>0</td>\n",
       "      <td>0</td>\n",
       "      <td>1</td>\n",
       "      <td>0</td>\n",
       "      <td>0</td>\n",
       "      <td>0</td>\n",
       "    </tr>\n",
       "    <tr>\n",
       "      <th>450212</th>\n",
       "      <td>19</td>\n",
       "      <td>190596.54</td>\n",
       "      <td>C1998481504</td>\n",
       "      <td>10768.00</td>\n",
       "      <td>201364.54</td>\n",
       "      <td>C889673442</td>\n",
       "      <td>0.00</td>\n",
       "      <td>0.00</td>\n",
       "      <td>0</td>\n",
       "      <td>1</td>\n",
       "      <td>0</td>\n",
       "      <td>0</td>\n",
       "      <td>0</td>\n",
       "      <td>0</td>\n",
       "    </tr>\n",
       "    <tr>\n",
       "      <th>2810996</th>\n",
       "      <td>225</td>\n",
       "      <td>251188.38</td>\n",
       "      <td>C909148235</td>\n",
       "      <td>55792.00</td>\n",
       "      <td>0.00</td>\n",
       "      <td>C460312922</td>\n",
       "      <td>0.00</td>\n",
       "      <td>251188.38</td>\n",
       "      <td>0</td>\n",
       "      <td>0</td>\n",
       "      <td>1</td>\n",
       "      <td>0</td>\n",
       "      <td>0</td>\n",
       "      <td>0</td>\n",
       "    </tr>\n",
       "    <tr>\n",
       "      <th>15569</th>\n",
       "      <td>8</td>\n",
       "      <td>794.18</td>\n",
       "      <td>C1527762517</td>\n",
       "      <td>1371460.55</td>\n",
       "      <td>1370666.37</td>\n",
       "      <td>M1489026763</td>\n",
       "      <td>0.00</td>\n",
       "      <td>0.00</td>\n",
       "      <td>0</td>\n",
       "      <td>0</td>\n",
       "      <td>0</td>\n",
       "      <td>0</td>\n",
       "      <td>1</td>\n",
       "      <td>0</td>\n",
       "    </tr>\n",
       "    <tr>\n",
       "      <th>5613458</th>\n",
       "      <td>395</td>\n",
       "      <td>482029.34</td>\n",
       "      <td>C940610186</td>\n",
       "      <td>20997.00</td>\n",
       "      <td>0.00</td>\n",
       "      <td>C1848623927</td>\n",
       "      <td>22855.78</td>\n",
       "      <td>504885.13</td>\n",
       "      <td>0</td>\n",
       "      <td>0</td>\n",
       "      <td>1</td>\n",
       "      <td>0</td>\n",
       "      <td>0</td>\n",
       "      <td>0</td>\n",
       "    </tr>\n",
       "    <tr>\n",
       "      <th>3230391</th>\n",
       "      <td>250</td>\n",
       "      <td>163927.18</td>\n",
       "      <td>C1076331548</td>\n",
       "      <td>0.00</td>\n",
       "      <td>0.00</td>\n",
       "      <td>C601123469</td>\n",
       "      <td>3930200.54</td>\n",
       "      <td>4094127.72</td>\n",
       "      <td>0</td>\n",
       "      <td>0</td>\n",
       "      <td>1</td>\n",
       "      <td>0</td>\n",
       "      <td>0</td>\n",
       "      <td>0</td>\n",
       "    </tr>\n",
       "    <tr>\n",
       "      <th>3205696</th>\n",
       "      <td>249</td>\n",
       "      <td>61135.12</td>\n",
       "      <td>C1107553339</td>\n",
       "      <td>4112039.00</td>\n",
       "      <td>4173174.12</td>\n",
       "      <td>C1745258294</td>\n",
       "      <td>4486784.26</td>\n",
       "      <td>4425649.14</td>\n",
       "      <td>0</td>\n",
       "      <td>1</td>\n",
       "      <td>0</td>\n",
       "      <td>0</td>\n",
       "      <td>0</td>\n",
       "      <td>0</td>\n",
       "    </tr>\n",
       "    <tr>\n",
       "      <th>963379</th>\n",
       "      <td>44</td>\n",
       "      <td>1043.93</td>\n",
       "      <td>C2095203850</td>\n",
       "      <td>166451.99</td>\n",
       "      <td>165408.06</td>\n",
       "      <td>M160184249</td>\n",
       "      <td>0.00</td>\n",
       "      <td>0.00</td>\n",
       "      <td>0</td>\n",
       "      <td>0</td>\n",
       "      <td>0</td>\n",
       "      <td>0</td>\n",
       "      <td>1</td>\n",
       "      <td>0</td>\n",
       "    </tr>\n",
       "    <tr>\n",
       "      <th>1684994</th>\n",
       "      <td>159</td>\n",
       "      <td>287679.37</td>\n",
       "      <td>C1160853962</td>\n",
       "      <td>2901868.09</td>\n",
       "      <td>3189547.45</td>\n",
       "      <td>C278732228</td>\n",
       "      <td>8526811.51</td>\n",
       "      <td>8239132.14</td>\n",
       "      <td>0</td>\n",
       "      <td>1</td>\n",
       "      <td>0</td>\n",
       "      <td>0</td>\n",
       "      <td>0</td>\n",
       "      <td>0</td>\n",
       "    </tr>\n",
       "    <tr>\n",
       "      <th>5754031</th>\n",
       "      <td>399</td>\n",
       "      <td>1834590.95</td>\n",
       "      <td>C1521544021</td>\n",
       "      <td>0.00</td>\n",
       "      <td>0.00</td>\n",
       "      <td>C1467821593</td>\n",
       "      <td>10621467.29</td>\n",
       "      <td>12456058.24</td>\n",
       "      <td>0</td>\n",
       "      <td>0</td>\n",
       "      <td>0</td>\n",
       "      <td>0</td>\n",
       "      <td>0</td>\n",
       "      <td>1</td>\n",
       "    </tr>\n",
       "  </tbody>\n",
       "</table>\n",
       "</div>"
      ],
      "text/plain": [
       "         step      amount     nameOrig  oldbalanceOrg  newbalanceOrig  \\\n",
       "833680     41     6396.66   C273903555           0.00            0.00   \n",
       "450212     19   190596.54  C1998481504       10768.00       201364.54   \n",
       "2810996   225   251188.38   C909148235       55792.00            0.00   \n",
       "15569       8      794.18  C1527762517     1371460.55      1370666.37   \n",
       "5613458   395   482029.34   C940610186       20997.00            0.00   \n",
       "3230391   250   163927.18  C1076331548           0.00            0.00   \n",
       "3205696   249    61135.12  C1107553339     4112039.00      4173174.12   \n",
       "963379     44     1043.93  C2095203850      166451.99       165408.06   \n",
       "1684994   159   287679.37  C1160853962     2901868.09      3189547.45   \n",
       "5754031   399  1834590.95  C1521544021           0.00            0.00   \n",
       "\n",
       "            nameDest  oldbalanceDest  newbalanceDest  isFraud  d__CASH_IN  \\\n",
       "833680    C934526907      2652827.44      2659224.10        0           0   \n",
       "450212    C889673442            0.00            0.00        0           1   \n",
       "2810996   C460312922            0.00       251188.38        0           0   \n",
       "15569    M1489026763            0.00            0.00        0           0   \n",
       "5613458  C1848623927        22855.78       504885.13        0           0   \n",
       "3230391   C601123469      3930200.54      4094127.72        0           0   \n",
       "3205696  C1745258294      4486784.26      4425649.14        0           1   \n",
       "963379    M160184249            0.00            0.00        0           0   \n",
       "1684994   C278732228      8526811.51      8239132.14        0           1   \n",
       "5754031  C1467821593     10621467.29     12456058.24        0           0   \n",
       "\n",
       "         d__CASH_OUT  d__DEBIT  d__PAYMENT  d__TRANSFER  \n",
       "833680             1         0           0            0  \n",
       "450212             0         0           0            0  \n",
       "2810996            1         0           0            0  \n",
       "15569              0         0           1            0  \n",
       "5613458            1         0           0            0  \n",
       "3230391            1         0           0            0  \n",
       "3205696            0         0           0            0  \n",
       "963379             0         0           1            0  \n",
       "1684994            0         0           0            0  \n",
       "5754031            0         0           0            1  "
      ]
     },
     "execution_count": 12,
     "metadata": {},
     "output_type": "execute_result"
    }
   ],
   "source": [
    "df.columns\n",
    "# # Get dummies:\n",
    "categorical = ['type']\n",
    "\n",
    "df = pd.get_dummies(df, prefix='d_', columns=categorical)\n",
    "print(df.shape)\n",
    "df.head(10)"
   ]
  },
  {
   "cell_type": "markdown",
   "metadata": {},
   "source": [
    "# Time unit\n",
    "- step - maps a unit of time in the real world. In this case 1 step is 1 hour of time. Total steps 744 (30 days simulation)."
   ]
  },
  {
   "cell_type": "code",
   "execution_count": 13,
   "metadata": {},
   "outputs": [
    {
     "data": {
      "text/html": [
       "<div>\n",
       "<style scoped>\n",
       "    .dataframe tbody tr th:only-of-type {\n",
       "        vertical-align: middle;\n",
       "    }\n",
       "\n",
       "    .dataframe tbody tr th {\n",
       "        vertical-align: top;\n",
       "    }\n",
       "\n",
       "    .dataframe thead th {\n",
       "        text-align: right;\n",
       "    }\n",
       "</style>\n",
       "<table border=\"1\" class=\"dataframe\">\n",
       "  <thead>\n",
       "    <tr style=\"text-align: right;\">\n",
       "      <th></th>\n",
       "      <th>step</th>\n",
       "      <th>amount</th>\n",
       "      <th>nameOrig</th>\n",
       "      <th>oldbalanceOrg</th>\n",
       "      <th>newbalanceOrig</th>\n",
       "      <th>nameDest</th>\n",
       "      <th>oldbalanceDest</th>\n",
       "      <th>newbalanceDest</th>\n",
       "      <th>isFraud</th>\n",
       "      <th>d__CASH_IN</th>\n",
       "      <th>d__CASH_OUT</th>\n",
       "      <th>d__DEBIT</th>\n",
       "      <th>d__PAYMENT</th>\n",
       "      <th>d__TRANSFER</th>\n",
       "    </tr>\n",
       "  </thead>\n",
       "  <tbody>\n",
       "    <tr>\n",
       "      <th>833680</th>\n",
       "      <td>2.0</td>\n",
       "      <td>6396.66</td>\n",
       "      <td>C273903555</td>\n",
       "      <td>0.00</td>\n",
       "      <td>0.00</td>\n",
       "      <td>C934526907</td>\n",
       "      <td>2652827.44</td>\n",
       "      <td>2659224.10</td>\n",
       "      <td>0</td>\n",
       "      <td>0</td>\n",
       "      <td>1</td>\n",
       "      <td>0</td>\n",
       "      <td>0</td>\n",
       "      <td>0</td>\n",
       "    </tr>\n",
       "    <tr>\n",
       "      <th>450212</th>\n",
       "      <td>1.0</td>\n",
       "      <td>190596.54</td>\n",
       "      <td>C1998481504</td>\n",
       "      <td>10768.00</td>\n",
       "      <td>201364.54</td>\n",
       "      <td>C889673442</td>\n",
       "      <td>0.00</td>\n",
       "      <td>0.00</td>\n",
       "      <td>0</td>\n",
       "      <td>1</td>\n",
       "      <td>0</td>\n",
       "      <td>0</td>\n",
       "      <td>0</td>\n",
       "      <td>0</td>\n",
       "    </tr>\n",
       "    <tr>\n",
       "      <th>2810996</th>\n",
       "      <td>9.0</td>\n",
       "      <td>251188.38</td>\n",
       "      <td>C909148235</td>\n",
       "      <td>55792.00</td>\n",
       "      <td>0.00</td>\n",
       "      <td>C460312922</td>\n",
       "      <td>0.00</td>\n",
       "      <td>251188.38</td>\n",
       "      <td>0</td>\n",
       "      <td>0</td>\n",
       "      <td>1</td>\n",
       "      <td>0</td>\n",
       "      <td>0</td>\n",
       "      <td>0</td>\n",
       "    </tr>\n",
       "    <tr>\n",
       "      <th>15569</th>\n",
       "      <td>0.0</td>\n",
       "      <td>794.18</td>\n",
       "      <td>C1527762517</td>\n",
       "      <td>1371460.55</td>\n",
       "      <td>1370666.37</td>\n",
       "      <td>M1489026763</td>\n",
       "      <td>0.00</td>\n",
       "      <td>0.00</td>\n",
       "      <td>0</td>\n",
       "      <td>0</td>\n",
       "      <td>0</td>\n",
       "      <td>0</td>\n",
       "      <td>1</td>\n",
       "      <td>0</td>\n",
       "    </tr>\n",
       "    <tr>\n",
       "      <th>5613458</th>\n",
       "      <td>16.0</td>\n",
       "      <td>482029.34</td>\n",
       "      <td>C940610186</td>\n",
       "      <td>20997.00</td>\n",
       "      <td>0.00</td>\n",
       "      <td>C1848623927</td>\n",
       "      <td>22855.78</td>\n",
       "      <td>504885.13</td>\n",
       "      <td>0</td>\n",
       "      <td>0</td>\n",
       "      <td>1</td>\n",
       "      <td>0</td>\n",
       "      <td>0</td>\n",
       "      <td>0</td>\n",
       "    </tr>\n",
       "  </tbody>\n",
       "</table>\n",
       "</div>"
      ],
      "text/plain": [
       "         step     amount     nameOrig  oldbalanceOrg  newbalanceOrig  \\\n",
       "833680    2.0    6396.66   C273903555           0.00            0.00   \n",
       "450212    1.0  190596.54  C1998481504       10768.00       201364.54   \n",
       "2810996   9.0  251188.38   C909148235       55792.00            0.00   \n",
       "15569     0.0     794.18  C1527762517     1371460.55      1370666.37   \n",
       "5613458  16.0  482029.34   C940610186       20997.00            0.00   \n",
       "\n",
       "            nameDest  oldbalanceDest  newbalanceDest  isFraud  d__CASH_IN  \\\n",
       "833680    C934526907      2652827.44      2659224.10        0           0   \n",
       "450212    C889673442            0.00            0.00        0           1   \n",
       "2810996   C460312922            0.00       251188.38        0           0   \n",
       "15569    M1489026763            0.00            0.00        0           0   \n",
       "5613458  C1848623927        22855.78       504885.13        0           0   \n",
       "\n",
       "         d__CASH_OUT  d__DEBIT  d__PAYMENT  d__TRANSFER  \n",
       "833680             1         0           0            0  \n",
       "450212             0         0           0            0  \n",
       "2810996            1         0           0            0  \n",
       "15569              0         0           1            0  \n",
       "5613458            1         0           0            0  "
      ]
     },
     "execution_count": 13,
     "metadata": {},
     "output_type": "execute_result"
    }
   ],
   "source": [
    "# Change the unit for days\n",
    "df['step'] = df['step'].apply(lambda n: n/24).round()\n",
    "df.head()"
   ]
  },
  {
   "cell_type": "code",
   "execution_count": 14,
   "metadata": {},
   "outputs": [
    {
     "data": {
      "text/plain": [
       "<function matplotlib.pyplot.show(*args, **kw)>"
      ]
     },
     "execution_count": 14,
     "metadata": {},
     "output_type": "execute_result"
    },
    {
     "data": {
      "image/png": "[encoded data removed]",
      "text/plain": [
       "<Figure size 432x288 with 1 Axes>"
      ]
     },
     "metadata": {},
     "output_type": "display_data"
    }
   ],
   "source": [
    "# Distribution of time\n",
    "sns.set()\n",
    "sns.distplot(df['step'])\n",
    "plt.show\n",
    "\n",
    "# This variable doesn´t have a normal distribution, i don´t know if will be good for the model??"
   ]
  },
  {
   "cell_type": "markdown",
   "metadata": {},
   "source": [
    "#  What do you think will be the important features in determining the outcome?"
   ]
  },
  {
   "cell_type": "code",
   "execution_count": 15,
   "metadata": {},
   "outputs": [
    {
     "data": {
      "text/plain": [
       "<matplotlib.axes._subplots.AxesSubplot at 0x23584bf2128>"
      ]
     },
     "execution_count": 15,
     "metadata": {},
     "output_type": "execute_result"
    },
    {
     "data": {
      "image/png": "[encoded data removed]",
      "text/plain": [
       "<Figure size 1008x432 with 2 Axes>"
      ]
     },
     "metadata": {},
     "output_type": "display_data"
    }
   ],
   "source": [
    "# Correlations\n",
    "corr = df.corr()\n",
    "plt.figure(figsize=(14,6))\n",
    "sns.heatmap(corr, annot=True, linewidths=.5, cmap='coolwarm')"
   ]
  },
  {
   "cell_type": "markdown",
   "metadata": {},
   "source": [
    "##### From this we have that the best variable for predict the response (fraud) is: Amount ad Transfer\n",
    "##### We also can see that some variable are high correlated as newbalanceOrig x oldbalanceOrig e newbalanceDets x oldbalamceDest"
   ]
  },
  {
   "cell_type": "code",
   "execution_count": 16,
   "metadata": {},
   "outputs": [
    {
     "data": {
      "text/plain": [
       "Index(['step', 'amount', 'nameOrig', 'oldbalanceOrg', 'newbalanceOrig',\n",
       "       'nameDest', 'oldbalanceDest', 'newbalanceDest', 'isFraud', 'd__CASH_IN',\n",
       "       'd__CASH_OUT', 'd__DEBIT', 'd__PAYMENT', 'd__TRANSFER'],\n",
       "      dtype='object')"
      ]
     },
     "execution_count": 16,
     "metadata": {},
     "output_type": "execute_result"
    }
   ],
   "source": [
    "# Relationship between Amount and Fraud\n",
    "df.columns"
   ]
  },
  {
   "cell_type": "markdown",
   "metadata": {},
   "source": [
    "### Run a logisitc regression classifier and evaluate its accuracy."
   ]
  },
  {
   "cell_type": "markdown",
   "metadata": {},
   "source": [
    "# Logistic Regression"
   ]
  },
  {
   "cell_type": "code",
   "execution_count": 17,
   "metadata": {},
   "outputs": [
    {
     "name": "stdout",
     "output_type": "stream",
     "text": [
      "              precision    recall  f1-score   support\n",
      "\n",
      "           0       1.00      1.00      1.00     29962\n",
      "           1       0.97      0.95      0.96        38\n",
      "\n",
      "    accuracy                           1.00     30000\n",
      "   macro avg       0.99      0.97      0.98     30000\n",
      "weighted avg       1.00      1.00      1.00     30000\n",
      "\n"
     ]
    },
    {
     "name": "stderr",
     "output_type": "stream",
     "text": [
      "C:\\Anaconda3\\lib\\site-packages\\sklearn\\linear_model\\_logistic.py:764: ConvergenceWarning: lbfgs failed to converge (status=1):\n",
      "STOP: TOTAL NO. of ITERATIONS REACHED LIMIT.\n",
      "\n",
      "Increase the number of iterations (max_iter) or scale the data as shown in:\n",
      "    https://scikit-learn.org/stable/modules/preprocessing.html\n",
      "Please also refer to the documentation for alternative solver options:\n",
      "    https://scikit-learn.org/stable/modules/linear_model.html#logistic-regression\n",
      "  extra_warning_msg=_LOGISTIC_SOLVER_CONVERGENCE_MSG)\n"
     ]
    }
   ],
   "source": [
    "# Choose X and Y\n",
    "x = df.drop(['isFraud','nameOrig', 'nameDest' ], axis = 1, inplace=False)\n",
    "y = df['isFraud']\n",
    "\n",
    "#Split the data into test and train sets\n",
    "X_train, X_test, y_train, y_test = train_test_split(x, y, test_size = 0.3, random_state = 0)\n",
    "\n",
    "# logistic regression object \n",
    "lr = LogisticRegression() \n",
    "  \n",
    "# train the model on train set \n",
    "lr.fit(X_train, y_train.ravel()) \n",
    "\n",
    "predictions = lr.predict(X_test) \n",
    "  \n",
    "# print classification report \n",
    "print(classification_report(y_test, predictions))"
   ]
  },
  {
   "cell_type": "code",
   "execution_count": 18,
   "metadata": {},
   "outputs": [],
   "source": [
    "# Interpretation"
   ]
  },
  {
   "cell_type": "markdown",
   "metadata": {},
   "source": [
    "### Now pick a model of your choice and evaluate its accuracy."
   ]
  },
  {
   "cell_type": "markdown",
   "metadata": {},
   "source": [
    "# KNN Classifier"
   ]
  },
  {
   "cell_type": "code",
   "execution_count": 19,
   "metadata": {},
   "outputs": [
    {
     "name": "stdout",
     "output_type": "stream",
     "text": [
      "Accuracy: 0.9993333333333333\n"
     ]
    }
   ],
   "source": [
    "# KNN Classifier\n",
    "from sklearn.neighbors import KNeighborsClassifier\n",
    "from sklearn.model_selection import train_test_split\n",
    "\n",
    "# initialize the model -> respective hyperparameters\n",
    "model = KNeighborsClassifier(n_neighbors = 5)\n",
    "\n",
    "# training \n",
    "model = model.fit(X_train, y_train)\n",
    "\n",
    "#predictions\n",
    "y_pred = model.predict(X_test)\n",
    "\n",
    "#Import scikit-learn metrics module for accuracy calculation\n",
    "from sklearn import metrics\n",
    "# Model Accuracy, how often is the classifier correct?\n",
    "print(\"Accuracy:\",metrics.accuracy_score(y_test, y_pred))"
   ]
  },
  {
   "cell_type": "markdown",
   "metadata": {},
   "source": [
    "# DecisionTrees"
   ]
  },
  {
   "cell_type": "code",
   "execution_count": 24,
   "metadata": {},
   "outputs": [
    {
     "name": "stdout",
     "output_type": "stream",
     "text": [
      "Accuracy for Train data is: 1.0\n",
      "Accuracy for Test data is: 0.9991666666666666\n"
     ]
    },
    {
     "data": {
      "text/plain": [
       "array([[29946,    16],\n",
       "       [    9,    29]], dtype=int64)"
      ]
     },
     "execution_count": 24,
     "metadata": {},
     "output_type": "execute_result"
    }
   ],
   "source": [
    "# Decision Trees\n",
    "from sklearn.tree import DecisionTreeClassifier\n",
    "\n",
    "# Model\n",
    "model = DecisionTreeClassifier()\n",
    "\n",
    "#Train\n",
    "model.fit(X_train, y_train)\n",
    "\n",
    "# Accuracy for  train\n",
    "print('Accuracy for Train data is:', model.score(X_train, y_train))\n",
    "\n",
    "# Accuracy  for test\n",
    "print('Accuracy for Test data is:', model.score(X_test, y_test))\n",
    "\n",
    "# predict the response for the test dataset\n",
    "y_pred = model.predict(X_test)\n",
    "\n",
    "# create confusion matrix\n",
    "confusion_matrix(y_test, y_pred)"
   ]
  },
  {
   "cell_type": "markdown",
   "metadata": {},
   "source": [
    "# SVM"
   ]
  },
  {
   "cell_type": "code",
   "execution_count": 23,
   "metadata": {},
   "outputs": [
    {
     "name": "stdout",
     "output_type": "stream",
     "text": [
      "Accuracy for Train data is: 0.9990857012243032\n",
      "Accuracy for Test data is: 0.9992\n"
     ]
    },
    {
     "name": "stderr",
     "output_type": "stream",
     "text": [
      "C:\\Anaconda3\\lib\\site-packages\\sklearn\\svm\\_base.py:977: ConvergenceWarning: Liblinear failed to converge, increase the number of iterations.\n",
      "  \"the number of iterations.\", ConvergenceWarning)\n"
     ]
    },
    {
     "data": {
      "text/plain": [
       "array([[29941,    21],\n",
       "       [    3,    35]], dtype=int64)"
      ]
     },
     "execution_count": 23,
     "metadata": {},
     "output_type": "execute_result"
    }
   ],
   "source": [
    "# Support Vector Machine\n",
    "\n",
    "from sklearn.svm import LinearSVC\n",
    "\n",
    "#Model\n",
    "model = LinearSVC()\n",
    "\n",
    "#Training\n",
    "model.fit(X_train, y_train)\n",
    "\n",
    "# Accuracy for  train\n",
    "print('Accuracy for Train data is:', model.score(X_train, y_train))\n",
    "\n",
    "# Accuracy  for test\n",
    "print('Accuracy for Test data is:', model.score(X_test, y_test))\n",
    "\n",
    "# predict the response for the test dataset\n",
    "y_pred = model.predict(X_test)\n",
    "\n",
    "# create confusion matrix\n",
    "confusion_matrix(y_test, y_pred)"
   ]
  },
  {
   "cell_type": "markdown",
   "metadata": {},
   "source": [
    "### Which model worked better and how do you know?"
   ]
  },
  {
   "cell_type": "code",
   "execution_count": 22,
   "metadata": {},
   "outputs": [],
   "source": [
    "\"\"\" The model with the better final metrics is Decision Tree.\n",
    "\"\"\""
   ]
  },
  {
   "cell_type": "markdown",
   "metadata": {},
   "source": [
    "### Note: before doing the first commit, make sure you don't include the large csv file, either by adding it to .gitignore, or by deleting it."
   ]
  }
 ],
 "metadata": {
  "kernelspec": {
   "display_name": "Python 3",
   "language": "python",
   "name": "python3"
  },
  "language_info": {
   "codemirror_mode": {
    "name": "ipython",
    "version": 3
   },
   "file_extension": ".py",
   "mimetype": "text/x-python",
   "name": "python",
   "nbconvert_exporter": "python",
   "pygments_lexer": "ipython3",
   "version": "3.7.3"
  }
 },
 "nbformat": 4,
 "nbformat_minor": 2
}
